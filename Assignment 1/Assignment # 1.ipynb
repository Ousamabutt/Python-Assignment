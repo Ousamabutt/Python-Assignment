{
 "cells": [
  {
   "cell_type": "code",
   "execution_count": 2,
   "id": "5f4baad1-d4f7-435f-b632-4a697c993081",
   "metadata": {},
   "outputs": [
    {
     "name": "stdout",
     "output_type": "stream",
     "text": [
      "Twinkle, twinkle, little star,\n",
      " \t How I wonder what you are!\n",
      "\t \t Up above the world so high,\n",
      " \t \t Like a diamond in the sky.\n",
      "Twinkle, twinkle, little star,\n",
      " \t How i wonder what you are\n"
     ]
    }
   ],
   "source": [
    "#Qno. 1\n",
    "\n",
    "print(\"Twinkle, twinkle, little star,\\n \\t How I wonder what you are!\");\n",
    "print(\"\\t \\t Up above the world so high,\\n \\t \\t Like a diamond in the sky.\");\n",
    "print(\"Twinkle, twinkle, little star,\\n \\t How i wonder what you are\");"
   ]
  },
  {
   "cell_type": "code",
   "execution_count": 6,
   "id": "862f017c-e0c2-407d-85c4-9149e915c0d5",
   "metadata": {},
   "outputs": [
    {
     "name": "stdout",
     "output_type": "stream",
     "text": [
      "Python Version Information\n",
      "3.9.7 (default, Sep 16 2021, 16:59:28) [MSC v.1916 64 bit (AMD64)]\n"
     ]
    }
   ],
   "source": [
    "#Qno. 2\n",
    "\n",
    "import sys;\n",
    "print(\"Python Version Information\");\n",
    "print(sys.version);"
   ]
  },
  {
   "cell_type": "code",
   "execution_count": 47,
   "id": "600ef837-ffac-432e-807d-0dae3504fcd0",
   "metadata": {},
   "outputs": [
    {
     "name": "stdout",
     "output_type": "stream",
     "text": [
      "Current date and time:\n",
      "02:09:49\n"
     ]
    }
   ],
   "source": [
    "#Qno. 3\n",
    "\n",
    "import datetime\n",
    "now = datetime.datetime.now()\n",
    "print(\"Current date and time:\");\n",
    "print(now.strftime(\"%H:%M:%S\"));"
   ]
  },
  {
   "cell_type": "code",
   "execution_count": 17,
   "id": "64dca440-fe03-4b3e-a491-418dfe2bb0d8",
   "metadata": {},
   "outputs": [
    {
     "name": "stdout",
     "output_type": "stream",
     "text": [
      "Area of circle 78.5\n"
     ]
    }
   ],
   "source": [
    "#Qno. 4\n",
    "\n",
    "r =(5);\n",
    "area = 3.14*r*r\n",
    "print(\"Area of circle\",area);"
   ]
  },
  {
   "cell_type": "code",
   "execution_count": 16,
   "id": "dcbd074b-4df7-4b7c-8aab-e8fad233a546",
   "metadata": {},
   "outputs": [
    {
     "name": "stdout",
     "output_type": "stream",
     "text": [
      "butt Usama\n"
     ]
    }
   ],
   "source": [
    "#Qno. 5\n",
    "\n",
    "firstname= \" Usama\";\n",
    "lastname= \"butt\";\n",
    "\n",
    "print (lastname + firstname);\n",
    "\n"
   ]
  },
  {
   "cell_type": "code",
   "execution_count": 15,
   "id": "5161e496-20a7-402f-b5d6-0b7aaa65b794",
   "metadata": {},
   "outputs": [
    {
     "name": "stdout",
     "output_type": "stream",
     "text": [
      "30\n"
     ]
    }
   ],
   "source": [
    "#Qno. 6\n",
    "\n",
    "a = 10;\n",
    "b = 20;\n",
    "c = a+b;\n",
    "print(c);"
   ]
  },
  {
   "cell_type": "code",
   "execution_count": null,
   "id": "6248954b-7556-4bcb-8914-21241a5e2cea",
   "metadata": {},
   "outputs": [],
   "source": []
  }
 ],
 "metadata": {
  "kernelspec": {
   "display_name": "Python 3 (ipykernel)",
   "language": "python",
   "name": "python3"
  },
  "language_info": {
   "codemirror_mode": {
    "name": "ipython",
    "version": 3
   },
   "file_extension": ".py",
   "mimetype": "text/x-python",
   "name": "python",
   "nbconvert_exporter": "python",
   "pygments_lexer": "ipython3",
   "version": "3.9.7"
  }
 },
 "nbformat": 4,
 "nbformat_minor": 5
}
